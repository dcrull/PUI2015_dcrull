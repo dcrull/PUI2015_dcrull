{
 "cells": [
  {
   "cell_type": "code",
   "execution_count": 1,
   "metadata": {
    "collapsed": false
   },
   "outputs": [
    {
     "name": "stdout",
     "output_type": "stream",
     "text": [
      "Populating the interactive namespace from numpy and matplotlib\n"
     ]
    },
    {
     "name": "stderr",
     "output_type": "stream",
     "text": [
      "/Users/Daynan/anaconda/lib/python2.7/site-packages/matplotlib/__init__.py:855: UserWarning: svg.embed_char_paths is deprecated and replaced with svg.fonttype; please use the latter.\n",
      "  warnings.warn(self.msg_depr % (key, alt_key))\n"
     ]
    }
   ],
   "source": [
    "#Note, I had some difficulty syncing the right file (and images) from Prof Bianco's repo\n",
    "#So just putting my z-test and chi^2 test formulas here rather than copying her Notebook\n",
    "\n",
    "import numpy as np\n",
    "import pylab as pl\n",
    "import json\n",
    "import os\n",
    "import urllib2\n",
    "%pylab inline\n",
    "\n",
    "from __future__ import print_function\n",
    "__author__='djc'\n",
    "\n",
    "url = urllib2.urlopen(\"https://raw.githubusercontent.com/fedhere/PUI2015_fbianco/master/fbb_matplotlibrc.json\")\n",
    "s = json.load(url)\n",
    "pl.rcParams.update(s)"
   ]
  },
  {
   "cell_type": "markdown",
   "metadata": {},
   "source": [
    "The homework asks about \"transitional CEO jobs\" after 3 years, but I can't locate that data. I'll frame my inquiry instead around the 4th row of data (as referenced in the question): \"Ever employed in an unsubsidized job\" for years 2-3.\n",
    "\n",
    "\n",
    "#NULL HYPOTHESIS: the % of former prisoners ever employed in an unsubsidized job 2-3 years after release is the same or lower for candidates who participated in the program as for the control group, significance level p=0.05\n",
    "\n"
   ]
  },
  {
   "cell_type": "code",
   "execution_count": 19,
   "metadata": {
    "collapsed": true
   },
   "outputs": [],
   "source": [
    "alpha = 0.05\n",
    "P_0 = 52.1*.01\n",
    "P_1 = 53.3*.01\n",
    "\n",
    "n_0 = 409\n",
    "n_1 = 564\n",
    "\n",
    "Nt_0 = P_0*n_0\n",
    "Nt_1 = P_1*n_1"
   ]
  },
  {
   "cell_type": "code",
   "execution_count": 20,
   "metadata": {
    "collapsed": false
   },
   "outputs": [
    {
     "name": "stdout",
     "output_type": "stream",
     "text": [
      "0.521 409 564 0.0324224126866\n"
     ]
    }
   ],
   "source": [
    "# find standard deviation for \n",
    "sp_stdev= lambda p, n: np.sqrt( p * ( 1 - p ) /n[0] +  p * ( 1 - p )/n[1]  )\n",
    "\n",
    "sp_stdev=sp_stdev((Nt_0+Nt_1)/(n_0+n_1),[n_0,n_1])\n",
    "print (P_0, n_0, n_1, sp_stdev)"
   ]
  },
  {
   "cell_type": "code",
   "execution_count": 21,
   "metadata": {
    "collapsed": false
   },
   "outputs": [
    {
     "name": "stdout",
     "output_type": "stream",
     "text": [
      "0.370114343926\n"
     ]
    }
   ],
   "source": [
    "# find the zscore\n",
    "zscore = lambda p0, p1, s : (p0-p1)/s\n",
    "z_3y = zscore(P_1, P_0, sp_stdev)\n",
    "print (z_3y)"
   ]
  },
  {
   "cell_type": "code",
   "execution_count": 22,
   "metadata": {
    "collapsed": false
   },
   "outputs": [
    {
     "name": "stdout",
     "output_type": "stream",
     "text": [
      "is the p value 0.36 smaller than the critical value 0.05? \n",
      "NO!\n",
      "the Null hypothesis is not rejected\n"
     ]
    }
   ],
   "source": [
    "# from a z-score table, we find that P=0.6443 for a z score of 0.37\n",
    "p_3y=1-0.6443\n",
    "\n",
    "\n",
    "def report_result(p,a):\n",
    "    print ('is the p value {0:.2f} smaller than the critical value {1:.2f}? '.format(p,a))\n",
    "    if p<a:\n",
    "        print (\"YES!\")\n",
    "    else: print (\"NO!\")\n",
    "    \n",
    "    print ('the Null hypothesis is {}'.format( 'rejected' if p<a  else 'not rejected')) \n",
    "    \n",
    "report_result(p_3y,alpha)"
   ]
  },
  {
   "cell_type": "markdown",
   "metadata": {},
   "source": [
    "Now we'll do a chi-squared test for employment data after 6 months."
   ]
  },
  {
   "cell_type": "code",
   "execution_count": 25,
   "metadata": {
    "collapsed": false
   },
   "outputs": [
    {
     "name": "stdout",
     "output_type": "stream",
     "text": [
      "131.579\n",
      "841.421\n"
     ]
    }
   ],
   "source": [
    "test_em = 14.7*5.64\n",
    "test_un = (100-14.7)*5.64\n",
    "control_em = 11.9*4.09\n",
    "control_un = (100-11.9)*4.09\n",
    "tot_em = test_em+control_em\n",
    "tot_un = test_un+control_un\n",
    "print (tot_em)\n",
    "print (tot_un)"
   ]
  },
  {
   "cell_type": "code",
   "execution_count": 33,
   "metadata": {
    "collapsed": false
   },
   "outputs": [
    {
     "name": "stdout",
     "output_type": "stream",
     "text": [
      "1.58939333193\n"
     ]
    }
   ],
   "source": [
    "Ntot = 973\n",
    "expected = 564*409*tot_em*tot_un\n",
    "sample_values = [[test_em,test_un],[control_em,control_un]]\n",
    "\n",
    "chisqstat= lambda N, values, expect : N*((values[0][0]*values[1][1]-values[0][1]*values[1][0])**2)/(expect)\n",
    "\n",
    "print (chisqstat(Ntot, sample_values, expected))"
   ]
  },
  {
   "cell_type": "code",
   "execution_count": 35,
   "metadata": {
    "collapsed": false
   },
   "outputs": [
    {
     "name": "stdout",
     "output_type": "stream",
     "text": [
      "is the chi sq stat 1.59 larger than the critical value of 3.84 as per alpha of 0.05\n",
      "NO!\n",
      "the Null hypothesis is not rejected\n"
     ]
    }
   ],
   "source": [
    "# looking at a chi-square table for p=.05 with 1 df, we should see something greater than 3.84\n",
    "chisqstat_6m = chisqstat(Ntot, sample_values, expected)\n",
    "\n",
    "def report_result(p,a):\n",
    "    print ('is the chi sq stat {0:.2f} larger than the critical value of 3.84 as per alpha of {1:.2f}'.format(p,a))\n",
    "    if p<a:\n",
    "        print (\"YES!\")\n",
    "    else: print (\"NO!\")\n",
    "    \n",
    "    print ('the Null hypothesis is {}'.format( 'rejected' if p<a  else 'not rejected')) \n",
    "    \n",
    "report_result(chisqstat_6m,alpha)"
   ]
  }
 ],
 "metadata": {
  "kernelspec": {
   "display_name": "Python 2",
   "language": "python",
   "name": "python2"
  },
  "language_info": {
   "codemirror_mode": {
    "name": "ipython",
    "version": 2
   },
   "file_extension": ".py",
   "mimetype": "text/x-python",
   "name": "python",
   "nbconvert_exporter": "python",
   "pygments_lexer": "ipython2",
   "version": "2.7.10"
  }
 },
 "nbformat": 4,
 "nbformat_minor": 0
}
