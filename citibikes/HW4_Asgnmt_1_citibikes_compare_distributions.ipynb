{
 "cells": [
  {
   "cell_type": "markdown",
   "metadata": {
    "collapsed": true
   },
   "source": [
    "#EDITED FROM PROF. B. AND COMPLETED BY DAYNAN CRULL\n",
    "#Assignment 1:\n",
    "    test if the distribution of ages is the same for \n",
    "    \n",
    "    1) male and femal riders\n",
    "    \n",
    "    2) day and night riders\n",
    "    \n",
    "    use 3 tests: KS, Pearson's, Spearman's"
   ]
  },
  {
   "cell_type": "code",
   "execution_count": 1,
   "metadata": {
    "collapsed": false,
    "scrolled": true
   },
   "outputs": [
    {
     "name": "stdout",
     "output_type": "stream",
     "text": [
      "Populating the interactive namespace from numpy and matplotlib\n"
     ]
    },
    {
     "name": "stderr",
     "output_type": "stream",
     "text": [
      "/Users/Daynan/anaconda/lib/python2.7/site-packages/matplotlib/__init__.py:855: UserWarning: svg.embed_char_paths is deprecated and replaced with svg.fonttype; please use the latter.\n",
      "  warnings.warn(self.msg_depr % (key, alt_key))\n"
     ]
    }
   ],
   "source": [
    "import numpy as np\n",
    "import pylab as pl\n",
    "import pandas as pd\n",
    "import json\n",
    "import os\n",
    "import csv\n",
    "import urllib2\n",
    "from zipfile import ZipFile\n",
    "from StringIO import StringIO\n",
    "%pylab inline\n",
    "\n",
    "from __future__ import print_function\n",
    "__author__='djc'\n",
    "\n",
    "url = urllib2.urlopen(\"https://raw.githubusercontent.com/fedhere/PUI2015_fbianco/master/fbb_matplotlibrc.json\")\n",
    "s = json.load(url)\n",
    "pl.rcParams.update(s)"
   ]
  },
  {
   "cell_type": "markdown",
   "metadata": {},
   "source": [
    "I will be using July 2015 data. - DJC"
   ]
  },
  {
   "cell_type": "code",
   "execution_count": 3,
   "metadata": {
    "collapsed": false,
    "scrolled": false
   },
   "outputs": [
    {
     "name": "stdout",
     "output_type": "stream",
     "text": [
      "Index([u'tripduration', u'starttime', u'stoptime', u'start station id',\n",
      "       u'start station name', u'start station latitude',\n",
      "       u'start station longitude', u'end station id', u'end station name',\n",
      "       u'end station latitude', u'end station longitude', u'bikeid',\n",
      "       u'usertype', u'birth year', u'gender'],\n",
      "      dtype='object')\n"
     ]
    }
   ],
   "source": [
    "# pull from URL of Citibike zip file in GitHub repo and load as Pandas dataframe\n",
    "zip_url = urllib2.urlopen(\"https://s3.amazonaws.com/tripdata/201507-citibike-tripdata.zip\").read()\n",
    "unzipped = ZipFile(StringIO(zip_url))\n",
    "citibike_201507_csv = unzipped.open(\"201507-citibike-tripdata.csv\")\n",
    "df=pd.read_csv(citibike_201507_csv)\n",
    "#df=pd.read_csv(\"201507-citibike-tripdata.csv\")\n",
    "print (df.columns)"
   ]
  },
  {
   "cell_type": "markdown",
   "metadata": {},
   "source": [
    "#BY GENDER for July 2015 Data - DJC"
   ]
  },
  {
   "cell_type": "code",
   "execution_count": 4,
   "metadata": {
    "collapsed": false
   },
   "outputs": [],
   "source": [
    "#df is the dataframe where the content of the csv file is stored\n",
    "df['ageM'] = 2015-df['birth year'][(df['usertype'] == 'Subscriber') & (df['gender'] == 1)]\n",
    "df['ageF'] = 2015-df['birth year'][(df['usertype'] == 'Subscriber') & (df['gender'] == 2)]"
   ]
  },
  {
   "cell_type": "code",
   "execution_count": 5,
   "metadata": {
    "collapsed": false
   },
   "outputs": [
    {
     "data": {
      "text/plain": [
       "<matplotlib.axes._subplots.AxesSubplot at 0x109b72a50>"
      ]
     },
     "execution_count": 5,
     "metadata": {},
     "output_type": "execute_result"
    },
    {
     "data": {
      "image/png": "[encoded data removed]",
      "text/plain": [
       "<matplotlib.figure.Figure at 0x11dd2c410>"
      ]
     },
     "metadata": {},
     "output_type": "display_data"
    },
    {
     "data": {
      "image/png": "[encoded data removed]",
      "text/plain": [
       "<matplotlib.figure.Figure at 0x11dd2c7d0>"
      ]
     },
     "metadata": {},
     "output_type": "display_data"
    }
   ],
   "source": [
    "bins = np.arange(10, 99, 10)\n",
    "df.ageM.groupby(pd.cut(df.ageM, bins)).agg([count_nonzero]).plot(kind='bar')\n",
    "df.ageF.groupby(pd.cut(df.ageF, bins)).agg([count_nonzero]).plot(kind='bar')"
   ]
  },
  {
   "cell_type": "code",
   "execution_count": 6,
   "metadata": {
    "collapsed": false,
    "scrolled": false
   },
   "outputs": [
    {
     "name": "stdout",
     "output_type": "stream",
     "text": [
      "          count_nonzero\n",
      "ageM                   \n",
      "(10, 20]       0.000753\n",
      "(20, 30]       0.072901\n",
      "(30, 40]       0.063428\n",
      "(40, 50]       0.020371\n",
      "(50, 60]       0.014432\n",
      "(60, 70]       0.002502\n",
      "(70, 80]       0.000320\n",
      "(80, 90]       0.000000\n"
     ]
    },
    {
     "data": {
      "text/plain": [
       "<matplotlib.legend.Legend at 0x109ead990>"
      ]
     },
     "execution_count": 6,
     "metadata": {},
     "output_type": "execute_result"
    },
    {
     "data": {
      "image/png": "[encoded data removed]",
      "text/plain": [
       "<matplotlib.figure.Figure at 0x109ead810>"
      ]
     },
     "metadata": {},
     "output_type": "display_data"
    }
   ],
   "source": [
    "#print df.ageM, df.ageF.cumsum()\n",
    "\n",
    "csM=df.ageM.groupby(pd.cut(df.ageM, bins)).agg([count_nonzero]).cumsum()\n",
    "\n",
    "csF=df.ageF.groupby(pd.cut(df.ageF, bins)).agg([count_nonzero]).cumsum()\n",
    "\n",
    "print (np.abs(csM / csM.max()-csF / csF.max()))\n",
    "\n",
    "pl.plot(bins[:-1] + 5, csM / csM.max(), label = \"M\")\n",
    "pl.plot(bins[:-1] + 5, csF / csF.max(), label = \"F\")\n",
    "pl.legend()"
   ]
  },
  {
   "cell_type": "markdown",
   "metadata": {},
   "source": [
    "####Lets run the scipy KS test. Let's look at significance of alpha=0.05  - DJC"
   ]
  },
  {
   "cell_type": "code",
   "execution_count": 7,
   "metadata": {
    "collapsed": false,
    "scrolled": false
   },
   "outputs": [],
   "source": [
    "import scipy.stats"
   ]
  },
  {
   "cell_type": "markdown",
   "metadata": {
    "collapsed": true
   },
   "source": [
    "#KS tests to compare 2 samples\n",
    "\n",
    "http://docs.scipy.org/doc/scipy-0.15.1/reference/generated/scipy.stats.ks_2samp.html\n",
    "\n",
    "####NULL HYPOTHESIS: the two given samples share an identical distribution. Significance at alpha=0.05."
   ]
  },
  {
   "cell_type": "code",
   "execution_count": 8,
   "metadata": {
    "collapsed": false
   },
   "outputs": [
    {
     "name": "stdout",
     "output_type": "stream",
     "text": [
      "(0.085139370088744726, 0.0)\n"
     ]
    }
   ],
   "source": [
    "ks=scipy.stats.ks_2samp(df.ageM[~np.isnan(df.ageM)], df.ageF[~np.isnan(df.ageF)])\n",
    "print (ks)"
   ]
  },
  {
   "cell_type": "markdown",
   "metadata": {},
   "source": [
    "remember: the Null hypothesis is rejected if \n",
    "\n",
    "$D_KS(n1,n2) > c(\\alpha) \\sqrt{\\frac{(n1+n2)}{n1n2}}$\n",
    "\n",
    "where $c(\\alpha$) is the inverse of the KS distribution, and you do not have to know how to get that cause there are tables that list critical values!! \n",
    "\n",
    "http://www.real-statistics.com/tests-normality-and-symmetry/statistical-tests-normality-symmetry/kolmogorov-smirnov-test/kolmogorov-distribution/\n"
   ]
  },
  {
   "cell_type": "code",
   "execution_count": 9,
   "metadata": {
    "collapsed": false
   },
   "outputs": [
    {
     "name": "stdout",
     "output_type": "stream",
     "text": [
      "for alpha values: c(alpha) :  0.10: 1.22;  0.05: 1.36;  0.025:1.48;  0.01: 1.63;  0.005: 1.73;  0.001:1.95\n"
     ]
    }
   ],
   "source": [
    "#here is the critical values tablel. Have you chosen your significance level yet?? you should do it first thing!\n",
    "#from IPython.display import Image\n",
    "#Image(filename=\"ks2sample_table.png\")\n",
    "print (\"for alpha values: c(alpha) :  0.10: 1.22;  0.05: 1.36;  0.025:1.48;  0.01: 1.63;  0.005: 1.73;  0.001:1.95\")"
   ]
  },
  {
   "cell_type": "markdown",
   "metadata": {},
   "source": [
    "####Determine results of KS test.\n",
    "We know from the p-value produced (0.0) that it is significant to the pre-set alpha of 0.05.\n",
    "\n",
    "The Null is rejected.\n",
    "\n",
    "But let's also examine KS metric manually. We'll do this at the interval of the bins for the sake of time, but it's probably better practice to find smaller increments. -- DJC"
   ]
  },
  {
   "cell_type": "code",
   "execution_count": 10,
   "metadata": {
    "collapsed": false
   },
   "outputs": [
    {
     "name": "stdout",
     "output_type": "stream",
     "text": [
      "          count_nonzero\n",
      "ageM                   \n",
      "(10, 20]       0.000753\n",
      "(20, 30]       0.072901\n",
      "(30, 40]       0.063428\n",
      "(40, 50]       0.020371\n",
      "(50, 60]       0.014432\n",
      "(60, 70]       0.002502\n",
      "(70, 80]       0.000320\n",
      "(80, 90]       0.000000\n",
      "The max difference in 2 samples is: 0.072901\n"
     ]
    }
   ],
   "source": [
    "#re-state the KS metric - \n",
    "sample_maxes = np.abs(csM / csM.max()-csF / csF.max())\n",
    "print (sample_maxes)\n",
    "max_diff = float(sample_maxes.max())\n",
    "print (\"The max difference in 2 samples is: {0:.6f}\".format(max_diff))"
   ]
  },
  {
   "cell_type": "code",
   "execution_count": 11,
   "metadata": {
    "collapsed": false
   },
   "outputs": [
    {
     "name": "stdout",
     "output_type": "stream",
     "text": [
      "Is the max sample difference of 0.072901 larger than the KS statistic of 0.003349?\n",
      "Yes.\n",
      "The Null hypothesis is rejected.\n"
     ]
    }
   ],
   "source": [
    "# calculate critical value\n",
    "crit_value = 1.36\n",
    "n_male = float(len(df.ageM[~np.isnan(df.ageM)]))\n",
    "n_female = float(len(df.ageF[~np.isnan(df.ageF)]))\n",
    "ks_formula = lambda v,n1,n2: v*(np.sqrt((n1+n2)/(n1*n2)))\n",
    "\n",
    "ks_stat = ks_formula(crit_value,n_male,n_female)\n",
    "\n",
    "def ks_results(m,ks):\n",
    "    print(\"Is the max sample difference of {0:.6f} larger than the KS statistic of {1:.6f}?\".format(m,ks))\n",
    "    if m>ks:\n",
    "        print (\"Yes.\")\n",
    "    else:\n",
    "        print (\"Nope.\")\n",
    "    \n",
    "    print ('The Null hypothesis is {}.'.format( 'rejected' if m>ks  else 'not rejected')) \n",
    "\n",
    "ks_results(max_diff,ks_stat)"
   ]
  },
  {
   "cell_type": "markdown",
   "metadata": {},
   "source": [
    "#Pearson's  test for correlation\n",
    "\n",
    "http://docs.scipy.org/doc/scipy/reference/generated/scipy.stats.pearsonr.html#scipy.stats.pearsonr\n",
    "\n"
   ]
  },
  {
   "cell_type": "markdown",
   "metadata": {},
   "source": [
    "The Pearson test requires that the 2 samples be similar size. They are not when NaNs are removed, so we need to pull similar-sized samples from each population, which should be a random sampling. Given a large enough sample size, this should still be normally distributed and continue to satisfy the assumption for normal dist. that Pearson requires.\n",
    "\n",
    "####Null hypothesis: the two given samples represent identical distributions as pulled from the same population. Signficance at alpha = 0.05."
   ]
  },
  {
   "cell_type": "code",
   "execution_count": 12,
   "metadata": {
    "collapsed": false
   },
   "outputs": [],
   "source": [
    "# remove NaNs from both samples\n",
    "dfm = df.ageM[~np.isnan(df.ageM)]\n",
    "dff = df.ageF[~np.isnan(df.ageF)]\n",
    "# import random and set the seed for reproducibility\n",
    "import random\n",
    "np.random.seed(32)\n",
    "#set sample size (should be <= the smallest of the two samples)\n",
    "size = 200000\n",
    "dfm_rand = np.random.choice(dfm, size, replace=False)\n",
    "dff_rand = np.random.choice(dff,size, replace=False)"
   ]
  },
  {
   "cell_type": "code",
   "execution_count": 13,
   "metadata": {
    "collapsed": false
   },
   "outputs": [
    {
     "name": "stdout",
     "output_type": "stream",
     "text": [
      "The Pearson r coefficient is 0.000610051934792. Is the 2-tailed p-value of 0.784990170738 smaller than 0.05?\n",
      "Nope.\n",
      "The correlation is not significant at the 0.05 alpha level.\n"
     ]
    }
   ],
   "source": [
    "# conducting Pearson's test\n",
    "pearson1 = scipy.stats.pearsonr(dfm_rand, dff_rand)\n",
    "pearson_alpha = 0.05\n",
    "\n",
    "r,p = pearson1\n",
    "def pearson_results(r,p,a):\n",
    "    print(\"The Pearson r coefficient is {}. Is the 2-tailed p-value of {} smaller than {}?\".format(r,p,a))\n",
    "    if p<a:\n",
    "        print (\"Yes.\")\n",
    "    else:\n",
    "        print (\"Nope.\")\n",
    "    \n",
    "    print ('The correlation is {} at the {} alpha level.'.format(('significant' if p<a  else 'not significant'),a)) \n",
    "\n",
    "pearson_results(r,p,pearson_alpha)"
   ]
  },
  {
   "cell_type": "markdown",
   "metadata": {},
   "source": [
    "At a nearly zero value correlation value, there appears very little difference, but at any rate, it is not significant. The Null is not rejected."
   ]
  },
  {
   "cell_type": "markdown",
   "metadata": {},
   "source": [
    "#Spearman's  test for correlation\n",
    "\n",
    "http://docs.scipy.org/doc/scipy/reference/generated/scipy.stats.spearmanr.html#scipy.stats.spearmanr\n",
    "\n",
    "####Null hypothesis: the two given samples have identical distributions. Significance at alpha = 0.05."
   ]
  },
  {
   "cell_type": "code",
   "execution_count": 14,
   "metadata": {
    "collapsed": false
   },
   "outputs": [
    {
     "name": "stdout",
     "output_type": "stream",
     "text": [
      "(0.0011406909766525236, 0.60996074576013493)\n",
      "The Spearman r coefficient is 0.00114069097665. Is the 2-tailed p-value of 0.60996074576 smaller than 0.05?\n",
      "Nope.\n",
      "The correlation is not significant at the 0.05 alpha level.\n"
     ]
    }
   ],
   "source": [
    "# we'll use the same randomly-generated sample for consistency\n",
    "spearman1 = scipy.stats.spearmanr(dfm_rand,dff_rand)\n",
    "print (spearman1)\n",
    "spearman_alpha = 0.05\n",
    "sr,sp = spearman1\n",
    "def spearman_results(r,p,a):\n",
    "    print(\"The Spearman r coefficient is {}. Is the 2-tailed p-value of {} smaller than {}?\".format(r,p,a))\n",
    "    if p<a:\n",
    "        print (\"Yes.\")\n",
    "    else:\n",
    "        print (\"Nope.\")\n",
    "    \n",
    "    print ('The correlation is {} at the {} alpha level.'.format(('significant' if p<a  else 'not significant'),a)) \n",
    "\n",
    "spearman_results(sr,sp,spearman_alpha)"
   ]
  },
  {
   "cell_type": "markdown",
   "metadata": {},
   "source": [
    "####Spearman test returns first a correlation coefficient and secondly, a pvalue. From our test, we see that the correlation is very close to 0, suggesting a very small difference. The pvalue is well above our significance level of 0.05, so the test is not significant anyway. The Null hypothesis is not rejected."
   ]
  },
  {
   "cell_type": "markdown",
   "metadata": {},
   "source": [
    "##DAY VS NIGHT-RIDERS"
   ]
  },
  {
   "cell_type": "code",
   "execution_count": 16,
   "metadata": {
    "collapsed": false
   },
   "outputs": [],
   "source": [
    "# running July 2015 data for day vs night: 6am to 8pm\n",
    "df['hour'] = pd.DatetimeIndex(df.starttime).hour"
   ]
  },
  {
   "cell_type": "code",
   "execution_count": 18,
   "metadata": {
    "collapsed": false
   },
   "outputs": [],
   "source": [
    "df['day'] = 2015-df['birth year'][(df['usertype'] == 'Subscriber') & ((df['hour'] < 20) & (df['hour']>6))]\n",
    "df['night'] = 2015-df['birth year'][(df['usertype'] == 'Subscriber') & ((df['hour'] >= 20) | (df['hour']<=6))]"
   ]
  },
  {
   "cell_type": "code",
   "execution_count": 19,
   "metadata": {
    "collapsed": false
   },
   "outputs": [
    {
     "data": {
      "text/plain": [
       "<matplotlib.axes._subplots.AxesSubplot at 0x10b080450>"
      ]
     },
     "execution_count": 19,
     "metadata": {},
     "output_type": "execute_result"
    },
    {
     "data": {
      "image/png": "[encoded data removed]",
      "text/plain": [
       "<matplotlib.figure.Figure at 0x10b611e10>"
      ]
     },
     "metadata": {},
     "output_type": "display_data"
    },
    {
     "data": {
      "image/png": "[encoded data removed]",
      "text/plain": [
       "<matplotlib.figure.Figure at 0x10b078f50>"
      ]
     },
     "metadata": {},
     "output_type": "display_data"
    }
   ],
   "source": [
    "df.day.groupby(pd.cut(df.day, bins)).agg([count_nonzero]).plot(kind='bar')\n",
    "df.night.groupby(pd.cut(df.night, bins)).agg([count_nonzero]).plot(kind='bar')"
   ]
  },
  {
   "cell_type": "code",
   "execution_count": 20,
   "metadata": {
    "collapsed": false
   },
   "outputs": [
    {
     "name": "stdout",
     "output_type": "stream",
     "text": [
      "          count_nonzero\n",
      "day                    \n",
      "(10, 20]       0.004181\n",
      "(20, 30]       0.077792\n",
      "(30, 40]       0.075847\n",
      "(40, 50]       0.038400\n",
      "(50, 60]       0.014592\n",
      "(60, 70]       0.002677\n",
      "(70, 80]       0.000021\n",
      "(80, 90]       0.000000\n"
     ]
    },
    {
     "data": {
      "text/plain": [
       "<matplotlib.legend.Legend at 0x10b08c790>"
      ]
     },
     "execution_count": 20,
     "metadata": {},
     "output_type": "execute_result"
    },
    {
     "data": {
      "image/png": "[encoded data removed]",
      "text/plain": [
       "<matplotlib.figure.Figure at 0x1076e8ad0>"
      ]
     },
     "metadata": {},
     "output_type": "display_data"
    }
   ],
   "source": [
    "#print df.day, df.night.cumsum()\n",
    "\n",
    "csD=df.day.groupby(pd.cut(df.day, bins)).agg([count_nonzero]).cumsum()\n",
    "\n",
    "csN=df.night.groupby(pd.cut(df.night, bins)).agg([count_nonzero]).cumsum()\n",
    "\n",
    "print (np.abs(csD / csD.max()-csN / csN.max()))\n",
    "\n",
    "pl.plot(bins[:-1] + 5, csD / csD.max(), label = \"Day\")\n",
    "pl.plot(bins[:-1] + 5, csN / csN.max(), label = \"Night\")\n",
    "pl.legend()"
   ]
  },
  {
   "cell_type": "code",
   "execution_count": 21,
   "metadata": {
    "collapsed": false
   },
   "outputs": [
    {
     "name": "stdout",
     "output_type": "stream",
     "text": [
      "(0.088777369613607604, 0.0)\n"
     ]
    }
   ],
   "source": [
    "ks=scipy.stats.ks_2samp(df.day[~np.isnan(df.day)], df.night[~np.isnan(df.night)])\n",
    "print (ks)"
   ]
  },
  {
   "cell_type": "markdown",
   "metadata": {
    "collapsed": true
   },
   "source": [
    "####KS TEST NULL HYPOTHESIS: that the two samples (day and night) share an identical distribution of ages. Signficance at alpha=0.05."
   ]
  },
  {
   "cell_type": "code",
   "execution_count": 24,
   "metadata": {
    "collapsed": false
   },
   "outputs": [
    {
     "name": "stdout",
     "output_type": "stream",
     "text": [
      "          count_nonzero\n",
      "day                    \n",
      "(10, 20]       0.004181\n",
      "(20, 30]       0.077792\n",
      "(30, 40]       0.075847\n",
      "(40, 50]       0.038400\n",
      "(50, 60]       0.014592\n",
      "(60, 70]       0.002677\n",
      "(70, 80]       0.000021\n",
      "(80, 90]       0.000000\n",
      "The max difference in 2 samples is: 0.077792\n"
     ]
    }
   ],
   "source": [
    "#re-state the KS metric - \n",
    "day_sample_maxes = np.abs(csD / csD.max()-csN / csN.max())\n",
    "print (day_sample_maxes)\n",
    "day_max_diff = float(day_sample_maxes.max())\n",
    "print (\"The max difference in 2 samples is: {0:.6f}\".format(day_max_diff))"
   ]
  },
  {
   "cell_type": "code",
   "execution_count": 25,
   "metadata": {
    "collapsed": false
   },
   "outputs": [
    {
     "name": "stdout",
     "output_type": "stream",
     "text": [
      "Is the max sample difference of 0.072901 larger than the KS statistic of 0.003687?\n",
      "Yes.\n",
      "The Null hypothesis is rejected.\n"
     ]
    }
   ],
   "source": [
    "# calculate critical value\n",
    "crit_value = 1.36\n",
    "n_day = float(len(df.day[~np.isnan(df.day)]))\n",
    "n_night = float(len(df.night[~np.isnan(df.night)]))\n",
    "\n",
    "#from above: ks_formula = lambda v,n1,n2: v*(np.sqrt((n1+n2)/(n1*n2)))\n",
    "\n",
    "day_ks_stat = ks_formula(crit_value,n_day,n_night)\n",
    "\n",
    "def ks_results(m,ks):\n",
    "    print(\"Is the max sample difference of {0:.6f} larger than the KS statistic of {1:.6f}?\".format(m,ks))\n",
    "    if m>ks:\n",
    "        print (\"Yes.\")\n",
    "    else:\n",
    "        print (\"Nope.\")\n",
    "    \n",
    "    print ('The Null hypothesis is {}.'.format( 'rejected' if m>ks  else 'not rejected')) \n",
    "\n",
    "ks_results(max_diff,day_ks_stat)"
   ]
  },
  {
   "cell_type": "markdown",
   "metadata": {},
   "source": [
    "##PEARSON"
   ]
  },
  {
   "cell_type": "markdown",
   "metadata": {},
   "source": [
    "####Null hypothesis: the two samples (day and night) share identical distributions of age. Signficance at alpha = 0.05."
   ]
  },
  {
   "cell_type": "code",
   "execution_count": 29,
   "metadata": {
    "collapsed": true
   },
   "outputs": [],
   "source": [
    "# remove NaNs from both samples\n",
    "dfd = df.day[~np.isnan(df.day)]\n",
    "dfn = df.night[~np.isnan(df.night)]\n",
    "# import random and set the seed for reproducibility\n",
    "import random\n",
    "np.random.seed(32)\n",
    "#set sample size (should be <= the smallest of the two samples)\n",
    "size = (len(dfn))-1\n",
    "dfd_rand = np.random.choice(dfd, size, replace=False)\n",
    "dfn_rand = np.random.choice(dfn,size, replace=False)"
   ]
  },
  {
   "cell_type": "code",
   "execution_count": 30,
   "metadata": {
    "collapsed": false
   },
   "outputs": [
    {
     "name": "stdout",
     "output_type": "stream",
     "text": [
      "The Pearson r coefficient is 0.000407116240073. Is the 2-tailed p-value of 0.867950170953 smaller than 0.05?\n",
      "Nope.\n",
      "The correlation is not significant at the 0.05 alpha level.\n"
     ]
    }
   ],
   "source": [
    "# conducting Pearson's test\n",
    "pearson_day = scipy.stats.pearsonr(dfd_rand, dfn_rand)\n",
    "\n",
    "# from abovepearson_alpha = 0.05\n",
    "\n",
    "r,p = pearson_day\n",
    "def pearson_results(r,p,a):\n",
    "    print(\"The Pearson r coefficient is {}. Is the 2-tailed p-value of {} smaller than {}?\".format(r,p,a))\n",
    "    if p<a:\n",
    "        print (\"Yes.\")\n",
    "    else:\n",
    "        print (\"Nope.\")\n",
    "    \n",
    "    print ('The correlation is {} at the {} alpha level.'.format(('significant' if p<a  else 'not significant'),a)) \n",
    "\n",
    "pearson_results(r,p,pearson_alpha)"
   ]
  },
  {
   "cell_type": "markdown",
   "metadata": {},
   "source": [
    "The null hypothesis is not rejected for the Pearson test."
   ]
  },
  {
   "cell_type": "markdown",
   "metadata": {},
   "source": [
    "###Null hypothesis: the two samples (day and night) are identical distributions of age. Significance at alpha 0.05."
   ]
  },
  {
   "cell_type": "code",
   "execution_count": 32,
   "metadata": {
    "collapsed": false
   },
   "outputs": [
    {
     "name": "stdout",
     "output_type": "stream",
     "text": [
      "(-0.00069596980107109927, 0.77623559351164106)\n",
      "The Spearman r coefficient is -0.000695969801071. Is the 2-tailed p-value of 0.776235593512 smaller than 0.05?\n",
      "Nope.\n",
      "The correlation is not significant at the 0.05 alpha level.\n"
     ]
    }
   ],
   "source": [
    "# we'll use the same randomly-generated sample for consistency\n",
    "spearman_day = scipy.stats.spearmanr(dfd_rand,dfn_rand)\n",
    "print (spearman_day)\n",
    "# from above spearman_alpha = 0.05\n",
    "sr,sp = spearman_day\n",
    "def spearman_results(r,p,a):\n",
    "    print(\"The Spearman r coefficient is {}. Is the 2-tailed p-value of {} smaller than {}?\".format(r,p,a))\n",
    "    if p<a:\n",
    "        print (\"Yes.\")\n",
    "    else:\n",
    "        print (\"Nope.\")\n",
    "    \n",
    "    print ('The correlation is {} at the {} alpha level.'.format(('significant' if p<a  else 'not significant'),a)) \n",
    "\n",
    "spearman_results(sr,sp,spearman_alpha)"
   ]
  },
  {
   "cell_type": "markdown",
   "metadata": {
    "collapsed": true
   },
   "source": [
    "The null hypothesis is not rejected."
   ]
  }
 ],
 "metadata": {
  "kernelspec": {
   "display_name": "Python 2",
   "language": "python",
   "name": "python2"
  },
  "language_info": {
   "codemirror_mode": {
    "name": "ipython",
    "version": 2
   },
   "file_extension": ".py",
   "mimetype": "text/x-python",
   "name": "python",
   "nbconvert_exporter": "python",
   "pygments_lexer": "ipython2",
   "version": "2.7.10"
  }
 },
 "nbformat": 4,
 "nbformat_minor": 0
}
